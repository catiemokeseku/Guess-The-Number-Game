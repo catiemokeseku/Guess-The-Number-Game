{
 "cells": [
  {
   "cell_type": "markdown",
   "id": "9d7def60",
   "metadata": {},
   "source": [
    "# Guess The Number Game"
   ]
  },
  {
   "cell_type": "code",
   "execution_count": 1,
   "id": "01fa9e4d",
   "metadata": {},
   "outputs": [],
   "source": [
    "import random"
   ]
  },
  {
   "cell_type": "code",
   "execution_count": 2,
   "id": "73c072ce",
   "metadata": {},
   "outputs": [
    {
     "name": "stdout",
     "output_type": "stream",
     "text": [
      "Please enter your name: ana\n"
     ]
    }
   ],
   "source": [
    "name = input('Please enter your name: ')"
   ]
  },
  {
   "cell_type": "code",
   "execution_count": 3,
   "id": "99b67940",
   "metadata": {},
   "outputs": [],
   "source": [
    "introduction = 'Hello ' + name + ', you are welcome to the guessing game'"
   ]
  },
  {
   "cell_type": "code",
   "execution_count": 4,
   "id": "f8809fc7",
   "metadata": {},
   "outputs": [
    {
     "data": {
      "text/plain": [
       "'Hello ana, you are welcome to the guessing game'"
      ]
     },
     "execution_count": 4,
     "metadata": {},
     "output_type": "execute_result"
    }
   ],
   "source": [
    "introduction"
   ]
  },
  {
   "cell_type": "code",
   "execution_count": 5,
   "id": "71403122",
   "metadata": {},
   "outputs": [],
   "source": [
    "guess_count = 0\n",
    "correct_guess = 0\n",
    "guess_limit = 5"
   ]
  },
  {
   "cell_type": "code",
   "execution_count": 7,
   "id": "2f169a8c",
   "metadata": {},
   "outputs": [
    {
     "name": "stdout",
     "output_type": "stream",
     "text": [
      "Please guess a number between 0 and 5: 1\n",
      "You guessed correctly. The hidden number is 1\n",
      "Please guess a number between 0 and 5: 0\n",
      "You guessed wrongly. The hidden number is 5. Try again\n",
      "Please guess a number between 0 and 5: 4\n",
      "You guessed wrongly. The hidden number is 3. Try again\n",
      "You have come to the end of the game. You had 1 correct guess\n"
     ]
    }
   ],
   "source": [
    "while guess_count < guess_limit:\n",
    "    guess = int(input('Please guess a number between 0 and 5: '))\n",
    "    hidden_number = random.randint(0,5)\n",
    "    if guess == hidden_number:\n",
    "        print('You guessed correctly. The hidden number is ' + str(hidden_number))\n",
    "        correct_guess += 1\n",
    "    else:\n",
    "        print('You guessed wrongly. The hidden number is ' + str(hidden_number) + '. Try again')\n",
    "    guess_count += 1\n",
    "if correct_guess == 1:\n",
    "    print('You have come to the end of the game. You had ' + str(correct_guess) + ' correct guess')\n",
    "else:\n",
    "    print('You have come to the end of the game. You had ' + str(correct_guess) + ' correct guesses')"
   ]
  }
 ],
 "metadata": {
  "kernelspec": {
   "display_name": "Python 3",
   "language": "python",
   "name": "python3"
  },
  "language_info": {
   "codemirror_mode": {
    "name": "ipython",
    "version": 3
   },
   "file_extension": ".py",
   "mimetype": "text/x-python",
   "name": "python",
   "nbconvert_exporter": "python",
   "pygments_lexer": "ipython3",
   "version": "3.8.8"
  }
 },
 "nbformat": 4,
 "nbformat_minor": 5
}
